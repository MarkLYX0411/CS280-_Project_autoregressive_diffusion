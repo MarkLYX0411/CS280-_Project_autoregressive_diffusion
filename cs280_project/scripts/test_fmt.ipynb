{
 "cells": [
  {
   "cell_type": "code",
   "execution_count": 1,
   "id": "599e0228",
   "metadata": {},
   "outputs": [
    {
     "name": "stdout",
     "output_type": "stream",
     "text": [
      "/home/haoyuexiao/Documents/CS280/final_proj/CS280-_Project_autoregressive_diffusuon/cs280_project\n"
     ]
    }
   ],
   "source": [
    "import sys\n",
    "import os\n",
    "sys.path.append(os.path.abspath(os.path.join(os.getcwd(), '..')))\n",
    "sys.path.append(os.path.abspath(os.path.join(os.getcwd(), '..', 'FMT')))\n",
    "from FMT.vae import VAE\n",
    "from train_vae import FrameDataset\n",
    "import torch\n",
    "import matplotlib.pyplot as plt\n",
    "import numpy as np"
   ]
  },
  {
   "cell_type": "code",
   "execution_count": 2,
   "id": "2c1b8436",
   "metadata": {},
   "outputs": [
    {
     "name": "stderr",
     "output_type": "stream",
     "text": [
      "/home/haoyuexiao/Documents/CS280/final_proj/CS280-_Project_autoregressive_diffusuon/cs280_project/FMT/model.py:24: FutureWarning: You are using `torch.load` with `weights_only=False` (the current default value), which uses the default pickle module implicitly. It is possible to construct malicious pickle data which will execute arbitrary code during unpickling (See https://github.com/pytorch/pytorch/blob/main/SECURITY.md#untrusted-models for more details). In a future release, the default value for `weights_only` will be flipped to `True`. This limits the functions that could be executed during unpickling. Arbitrary objects will no longer be allowed to be loaded via this mode unless they are explicitly allowlisted by the user via `torch.serialization.add_safe_globals`. We recommend you start setting `weights_only=True` for any use case where you don't have full control of the loaded file. Please open an issue on GitHub for any issues related to this experimental feature.\n",
      "  ckpt = torch.load(config.VAEConfig.pretrained_path,\n"
     ]
    },
    {
     "name": "stdout",
     "output_type": "stream",
     "text": [
      "[AutoregressiveFMT] loaded VAE weights from /home/haoyuexiao/Documents/CS280/final_proj/CS280-_Project_autoregressive_diffusuon/cs280_project/scripts/checkpoints/vae_50/best.pth\n"
     ]
    },
    {
     "name": "stderr",
     "output_type": "stream",
     "text": [
      "/tmp/ipykernel_3678260/761383533.py:5: FutureWarning: You are using `torch.load` with `weights_only=False` (the current default value), which uses the default pickle module implicitly. It is possible to construct malicious pickle data which will execute arbitrary code during unpickling (See https://github.com/pytorch/pytorch/blob/main/SECURITY.md#untrusted-models for more details). In a future release, the default value for `weights_only` will be flipped to `True`. This limits the functions that could be executed during unpickling. Arbitrary objects will no longer be allowed to be loaded via this mode unless they are explicitly allowlisted by the user via `torch.serialization.add_safe_globals`. We recommend you start setting `weights_only=True` for any use case where you don't have full control of the loaded file. Please open an issue on GitHub for any issues related to this experimental feature.\n",
      "  state_dict = torch.load('/home/haoyuexiao/Documents/CS280/final_proj/CS280-_Project_autoregressive_diffusuon/cs280_project/scripts/checkpoints/autoregressive_fmt_50/model_epoch10.pth')\n"
     ]
    },
    {
     "data": {
      "text/plain": [
       "<All keys matched successfully>"
      ]
     },
     "execution_count": 2,
     "metadata": {},
     "output_type": "execute_result"
    }
   ],
   "source": [
    "from FMT.config.AutoregressiveFMTConfig import AutoregressiveFMTConfig\n",
    "from FMT.model import AutoregressiveFMT\n",
    "config = AutoregressiveFMTConfig()\n",
    "model = AutoregressiveFMT(config)\n",
    "state_dict = torch.load('/home/haoyuexiao/Documents/CS280/final_proj/CS280-_Project_autoregressive_diffusuon/cs280_project/scripts/checkpoints/autoregressive_fmt_50/model_epoch10.pth')\n",
    "model.load_state_dict(state_dict)"
   ]
  },
  {
   "cell_type": "code",
   "execution_count": 3,
   "id": "7175e12b",
   "metadata": {},
   "outputs": [
    {
     "name": "stdout",
     "output_type": "stream",
     "text": [
      "fmt.frame_embed.weight cuda:0 True\n",
      "fmt.frame_embed.bias cuda:0 True\n",
      "fmt.time_embed.mlp.0.weight cuda:0 True\n",
      "fmt.time_embed.mlp.0.bias cuda:0 True\n",
      "fmt.time_embed.mlp.2.weight cuda:0 True\n",
      "fmt.time_embed.mlp.2.bias cuda:0 True\n",
      "fmt.class_embed.ff.0.weight cuda:0 True\n",
      "fmt.class_embed.ff.0.bias cuda:0 True\n",
      "fmt.class_embed.ff.2.weight cuda:0 True\n",
      "fmt.class_embed.ff.2.bias cuda:0 True\n",
      "fmt.blocks.0.norm1.weight cuda:0 True\n",
      "fmt.blocks.0.norm1.bias cuda:0 True\n",
      "fmt.blocks.0.attn.qkv.weight cuda:0 True\n",
      "fmt.blocks.0.attn.qkv.bias cuda:0 True\n",
      "fmt.blocks.0.attn.proj.weight cuda:0 True\n",
      "fmt.blocks.0.attn.proj.bias cuda:0 True\n",
      "fmt.blocks.0.norm2.weight cuda:0 True\n",
      "fmt.blocks.0.norm2.bias cuda:0 True\n",
      "fmt.blocks.0.mlp.fc1.weight cuda:0 True\n",
      "fmt.blocks.0.mlp.fc1.bias cuda:0 True\n",
      "fmt.blocks.0.mlp.fc2.weight cuda:0 True\n",
      "fmt.blocks.0.mlp.fc2.bias cuda:0 True\n",
      "fmt.blocks.0.mod.1.weight cuda:0 True\n",
      "fmt.blocks.0.mod.1.bias cuda:0 True\n",
      "fmt.blocks.1.norm1.weight cuda:0 True\n",
      "fmt.blocks.1.norm1.bias cuda:0 True\n",
      "fmt.blocks.1.attn.qkv.weight cuda:0 True\n",
      "fmt.blocks.1.attn.qkv.bias cuda:0 True\n",
      "fmt.blocks.1.attn.proj.weight cuda:0 True\n",
      "fmt.blocks.1.attn.proj.bias cuda:0 True\n",
      "fmt.blocks.1.norm2.weight cuda:0 True\n",
      "fmt.blocks.1.norm2.bias cuda:0 True\n",
      "fmt.blocks.1.mlp.fc1.weight cuda:0 True\n",
      "fmt.blocks.1.mlp.fc1.bias cuda:0 True\n",
      "fmt.blocks.1.mlp.fc2.weight cuda:0 True\n",
      "fmt.blocks.1.mlp.fc2.bias cuda:0 True\n",
      "fmt.blocks.1.mod.1.weight cuda:0 True\n",
      "fmt.blocks.1.mod.1.bias cuda:0 True\n",
      "fmt.blocks.2.norm1.weight cuda:0 True\n",
      "fmt.blocks.2.norm1.bias cuda:0 True\n",
      "fmt.blocks.2.attn.qkv.weight cuda:0 True\n",
      "fmt.blocks.2.attn.qkv.bias cuda:0 True\n",
      "fmt.blocks.2.attn.proj.weight cuda:0 True\n",
      "fmt.blocks.2.attn.proj.bias cuda:0 True\n",
      "fmt.blocks.2.norm2.weight cuda:0 True\n",
      "fmt.blocks.2.norm2.bias cuda:0 True\n",
      "fmt.blocks.2.mlp.fc1.weight cuda:0 True\n",
      "fmt.blocks.2.mlp.fc1.bias cuda:0 True\n",
      "fmt.blocks.2.mlp.fc2.weight cuda:0 True\n",
      "fmt.blocks.2.mlp.fc2.bias cuda:0 True\n",
      "fmt.blocks.2.mod.1.weight cuda:0 True\n",
      "fmt.blocks.2.mod.1.bias cuda:0 True\n",
      "fmt.blocks.3.norm1.weight cuda:0 True\n",
      "fmt.blocks.3.norm1.bias cuda:0 True\n",
      "fmt.blocks.3.attn.qkv.weight cuda:0 True\n",
      "fmt.blocks.3.attn.qkv.bias cuda:0 True\n",
      "fmt.blocks.3.attn.proj.weight cuda:0 True\n",
      "fmt.blocks.3.attn.proj.bias cuda:0 True\n",
      "fmt.blocks.3.norm2.weight cuda:0 True\n",
      "fmt.blocks.3.norm2.bias cuda:0 True\n",
      "fmt.blocks.3.mlp.fc1.weight cuda:0 True\n",
      "fmt.blocks.3.mlp.fc1.bias cuda:0 True\n",
      "fmt.blocks.3.mlp.fc2.weight cuda:0 True\n",
      "fmt.blocks.3.mlp.fc2.bias cuda:0 True\n",
      "fmt.blocks.3.mod.1.weight cuda:0 True\n",
      "fmt.blocks.3.mod.1.bias cuda:0 True\n",
      "fmt.blocks.4.norm1.weight cuda:0 True\n",
      "fmt.blocks.4.norm1.bias cuda:0 True\n",
      "fmt.blocks.4.attn.qkv.weight cuda:0 True\n",
      "fmt.blocks.4.attn.qkv.bias cuda:0 True\n",
      "fmt.blocks.4.attn.proj.weight cuda:0 True\n",
      "fmt.blocks.4.attn.proj.bias cuda:0 True\n",
      "fmt.blocks.4.norm2.weight cuda:0 True\n",
      "fmt.blocks.4.norm2.bias cuda:0 True\n",
      "fmt.blocks.4.mlp.fc1.weight cuda:0 True\n",
      "fmt.blocks.4.mlp.fc1.bias cuda:0 True\n",
      "fmt.blocks.4.mlp.fc2.weight cuda:0 True\n",
      "fmt.blocks.4.mlp.fc2.bias cuda:0 True\n",
      "fmt.blocks.4.mod.1.weight cuda:0 True\n",
      "fmt.blocks.4.mod.1.bias cuda:0 True\n",
      "fmt.blocks.5.norm1.weight cuda:0 True\n",
      "fmt.blocks.5.norm1.bias cuda:0 True\n",
      "fmt.blocks.5.attn.qkv.weight cuda:0 True\n",
      "fmt.blocks.5.attn.qkv.bias cuda:0 True\n",
      "fmt.blocks.5.attn.proj.weight cuda:0 True\n",
      "fmt.blocks.5.attn.proj.bias cuda:0 True\n",
      "fmt.blocks.5.norm2.weight cuda:0 True\n",
      "fmt.blocks.5.norm2.bias cuda:0 True\n",
      "fmt.blocks.5.mlp.fc1.weight cuda:0 True\n",
      "fmt.blocks.5.mlp.fc1.bias cuda:0 True\n",
      "fmt.blocks.5.mlp.fc2.weight cuda:0 True\n",
      "fmt.blocks.5.mlp.fc2.bias cuda:0 True\n",
      "fmt.blocks.5.mod.1.weight cuda:0 True\n",
      "fmt.blocks.5.mod.1.bias cuda:0 True\n",
      "fmt.norm_out.weight cuda:0 True\n",
      "fmt.norm_out.bias cuda:0 True\n",
      "fmt.linear.weight cuda:0 True\n",
      "fmt.linear.bias cuda:0 True\n"
     ]
    }
   ],
   "source": [
    "for n,p in model.named_parameters():\n",
    "    if p.requires_grad:\n",
    "        print(n, p.device, p.grad is None)\n"
   ]
  },
  {
   "cell_type": "code",
   "execution_count": 16,
   "id": "48cebcc7",
   "metadata": {},
   "outputs": [
    {
     "name": "stdout",
     "output_type": "stream",
     "text": [
      "torch.Size([400, 1, 256, 256])\n"
     ]
    }
   ],
   "source": [
    "one_hot = torch.Tensor([1, 0]).unsqueeze(0).cuda()\n",
    "sampled_video = model.autoregressive_sample(one_hot, num_chunks=100, guidance=7.0, seed=5154)[0]\n",
    "print(sampled_video.shape)"
   ]
  },
  {
   "cell_type": "code",
   "execution_count": 17,
   "id": "65ac5da3",
   "metadata": {},
   "outputs": [
    {
     "data": {
      "image/png": "[encoded data removed]",
      "text/plain": [
       "<Figure size 640x480 with 1 Axes>"
      ]
     },
     "metadata": {},
     "output_type": "display_data"
    }
   ],
   "source": [
    "sampled_video_numpy = sampled_video.permute(0, 2, 3, 1).cpu().numpy()\n",
    "for i, frame in enumerate(sampled_video_numpy):\n",
    "    if i  == 1:\n",
    "        plt.imshow(frame)\n",
    "        break"
   ]
  },
  {
   "cell_type": "code",
   "execution_count": 18,
   "id": "20af5a91",
   "metadata": {},
   "outputs": [],
   "source": [
    "import imageio\n",
    "gif_path = os.path.join(os.getcwd(), 'output_video.gif')\n",
    "video_numpy_int = (sampled_video_numpy * 255).squeeze(-1)  .astype(np.uint8)\n",
    "imageio.mimsave(gif_path, video_numpy_int, fps=10)\n",
    "\n"
   ]
  },
  {
   "cell_type": "code",
   "execution_count": 3,
   "id": "4d2ce5aa",
   "metadata": {},
   "outputs": [],
   "source": [
    "from dataset import QuickDrawDataset\n",
    "data_path = '../data/quickdraw_50_apple_star_v2.npz'\n",
    "valid_ds  = QuickDrawDataset(data_path, split=\"valid\", num_classes=2)"
   ]
  },
  {
   "cell_type": "code",
   "execution_count": 17,
   "id": "19f557d7",
   "metadata": {},
   "outputs": [
    {
     "name": "stdout",
     "output_type": "stream",
     "text": [
      "torch.Size([60, 256, 256])\n"
     ]
    },
    {
     "data": {
      "image/png": "[encoded data removed]",
      "text/plain": [
       "<Figure size 640x480 with 1 Axes>"
      ]
     },
     "metadata": {},
     "output_type": "display_data"
    }
   ],
   "source": [
    "idx = 6\n",
    "video, labels = valid_ds[idx]\n",
    "print(video.shape)\n",
    "\n",
    "for i, frame in enumerate(video):\n",
    "    if i == 59:\n",
    "        plt.imshow(frame)\n",
    "        plt.show()\n",
    "        break\n"
   ]
  },
  {
   "cell_type": "code",
   "execution_count": 18,
   "id": "939cdf22",
   "metadata": {},
   "outputs": [
    {
     "name": "stdout",
     "output_type": "stream",
     "text": [
      "torch.Size([1, 12, 1, 256, 256])\n",
      "torch.Size([400, 1, 256, 256])\n"
     ]
    }
   ],
   "source": [
    "first_chunk = video[:12, ...].unsqueeze(0).unsqueeze(2).cuda()\n",
    "print(first_chunk.shape)\n",
    "sampled_video_cond = model.autoregressive_sample(labels.unsqueeze(0).cuda(), num_chunks=100, guidance=5.0, seed=5154, prev_chunk=first_chunk)[0]\n",
    "print(sampled_video_cond.shape)\n"
   ]
  },
  {
   "cell_type": "code",
   "execution_count": 19,
   "id": "9db36133",
   "metadata": {},
   "outputs": [
    {
     "name": "stdout",
     "output_type": "stream",
     "text": [
      "torch.Size([400, 1, 256, 256])\n"
     ]
    }
   ],
   "source": [
    "import imageio\n",
    "gif_path = os.path.join(os.getcwd(), 'output_video_cond.gif')\n",
    "print(sampled_video_cond.shape)\n",
    "video_cond_numpy_int = (sampled_video_cond.permute(0, 2, 3, 1).cpu().numpy() * 255).squeeze(-1)  .astype(np.uint8)\n",
    "imageio.mimsave(gif_path, video_cond_numpy_int, fps=10)\n",
    "\n"
   ]
  }
 ],
 "metadata": {
  "kernelspec": {
   "display_name": "cs180",
   "language": "python",
   "name": "python3"
  },
  "language_info": {
   "codemirror_mode": {
    "name": "ipython",
    "version": 3
   },
   "file_extension": ".py",
   "mimetype": "text/x-python",
   "name": "python",
   "nbconvert_exporter": "python",
   "pygments_lexer": "ipython3",
   "version": "3.8.20"
  }
 },
 "nbformat": 4,
 "nbformat_minor": 5
}
